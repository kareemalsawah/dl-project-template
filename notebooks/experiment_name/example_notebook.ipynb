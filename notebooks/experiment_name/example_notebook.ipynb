{
 "cells": [
  {
   "cell_type": "code",
   "execution_count": 1,
   "metadata": {},
   "outputs": [],
   "source": [
    "import os\n",
    "import sys\n",
    "import yaml\n",
    "import torch\n",
    "import numpy as np\n",
    "import matplotlib.pyplot as plt\n",
    "\n",
    "# manually add src.models to path\n",
    "sys.path.append(\"../../\")\n",
    "from src.load_configs import init_from_config"
   ]
  },
  {
   "cell_type": "code",
   "execution_count": 2,
   "metadata": {},
   "outputs": [
    {
     "name": "stdout",
     "output_type": "stream",
     "text": [
      "Training Configuration:\n",
      "dataset_name: gaussian_synthetic\n",
      "dataset_params:\n",
      "  batch_size: 256\n",
      "  n_test_samples: 512\n",
      "  n_train_samples: 5000\n",
      "  n_val_samples: 512\n",
      "load_model_path: null\n",
      "logger_name: print_logger\n",
      "logger_params: {}\n",
      "loss_name: example_loss\n",
      "loss_params: {}\n",
      "model_name: example_model\n",
      "model_params:\n",
      "  model_size: 32\n",
      "trainer_name: deep_trainer\n",
      "trainer_params:\n",
      "  device: cpu\n",
      "  lr: 0.001\n",
      "  n_epochs: 200\n",
      "  save_metrics: true\n",
      "  save_model: true\n",
      "  save_path: models/gaussian_synthetic/example_model/\n",
      "  val_freq: 100\n",
      "  verbose: false\n",
      "\n"
     ]
    },
    {
     "data": {
      "text/plain": [
       "{'dataloaders': {'train': <torch.utils.data.dataloader.DataLoader at 0x7f3ffc21ef20>,\n",
       "  'val': <torch.utils.data.dataloader.DataLoader at 0x7f3ffc21efe0>,\n",
       "  'test': <torch.utils.data.dataloader.DataLoader at 0x7f3ffc21ee90>},\n",
       " 'model': ExampleModel(\n",
       "   (fc): Sequential(\n",
       "     (0): Linear(in_features=2, out_features=32, bias=True)\n",
       "     (1): ReLU()\n",
       "     (2): Linear(in_features=32, out_features=32, bias=True)\n",
       "     (3): ReLU()\n",
       "     (4): Linear(in_features=32, out_features=2, bias=True)\n",
       "     (5): LogSoftmax(dim=1)\n",
       "   )\n",
       " ),\n",
       " 'loss': ExampleLoss(\n",
       "   (criterion): NLLLoss()\n",
       " ),\n",
       " 'logger': <src.loggers.print_logger.print_logger.PrintLogger at 0x7f3e8a744790>,\n",
       " 'trainer': <src.trainers.deep_trainer.deep_trainer.DeepTrainer at 0x7f3e8a744310>}"
      ]
     },
     "execution_count": 2,
     "metadata": {},
     "output_type": "execute_result"
    }
   ],
   "source": [
    "config_path = \"../../configs/model_class/dataset_name/config_name.yaml\"\n",
    "with open(config_path, \"r\", encoding=\"utf-8\") as yaml_file:\n",
    "    config = yaml.load(yaml_file, Loader=yaml.FullLoader)\n",
    "\n",
    "initialized_objects = init_from_config(config)\n",
    "initialized_objects"
   ]
  }
 ],
 "metadata": {
  "kernelspec": {
   "display_name": "Python 3",
   "language": "python",
   "name": "python3"
  },
  "language_info": {
   "codemirror_mode": {
    "name": "ipython",
    "version": 3
   },
   "file_extension": ".py",
   "mimetype": "text/x-python",
   "name": "python",
   "nbconvert_exporter": "python",
   "pygments_lexer": "ipython3",
   "version": "3.10.12"
  }
 },
 "nbformat": 4,
 "nbformat_minor": 2
}
